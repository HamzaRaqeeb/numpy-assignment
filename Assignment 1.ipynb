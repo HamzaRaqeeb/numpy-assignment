{
 "cells": [
  {
   "cell_type": "markdown",
   "id": "ba725b15",
   "metadata": {},
   "source": [
    "# Assignment 1 - NumPy"
   ]
  },
  {
   "cell_type": "markdown",
   "id": "41af46fc",
   "metadata": {},
   "source": [
    "**Name: Hamza Raqeeb**\n",
    "\n",
    "**Id: 21031287**"
   ]
  },
  {
   "cell_type": "code",
   "execution_count": 1,
   "id": "30f31fe6",
   "metadata": {},
   "outputs": [],
   "source": [
    "#importing all the standard libraries\n",
    "\n",
    "import numpy as np\n",
    "import pandas as pd\n",
    "import matplotlib.pyplot as plt\n",
    "import statsmodels.api as sm\n",
    "import seaborn as sns\n",
    "sns.set()\n",
    "from sklearn.cluster import KMeans"
   ]
  },
  {
   "cell_type": "code",
   "execution_count": 2,
   "id": "fcc3971c",
   "metadata": {},
   "outputs": [],
   "source": [
    "# cheked the available sampe data files in the working directory\n",
    "# classification: class2.csv\n",
    "# regression: regr2.csv\n",
    "\n",
    "import os\n",
    "os.chdir(\"D:/study/tutorialPoint/Questions-6017941010\")\n",
    "\n",
    "class_file_name = \"class2.csv\"\n",
    "regr_file_name  = \"regr2.csv\""
   ]
  },
  {
   "cell_type": "markdown",
   "id": "ad74d55d",
   "metadata": {},
   "source": [
    "# KNN Classification"
   ]
  },
  {
   "cell_type": "code",
   "execution_count": 3,
   "id": "757f364c",
   "metadata": {},
   "outputs": [],
   "source": [
    "# Below code is function for k-means classification\n",
    "\n",
    "def knn_classify(train, test, k):\n",
    "    kmeans = KMeans(k)\n",
    "    kmeans.fit(train)\n",
    "    identified_clusters = kmeans.fit_predict(test)\n",
    "    return identified_clusters\n",
    "\n",
    "def euclidean_distance(vector1, vector2):\n",
    "    return np.sqrt(np.sum(np.power(vector1-vector1, 2)))"
   ]
  },
  {
   "cell_type": "code",
   "execution_count": 4,
   "id": "d08ba5cd",
   "metadata": {},
   "outputs": [],
   "source": [
    "# function for Class split for X & Y\n",
    "\n",
    "def X_Y_split(Data):\n",
    "    x_class = class_data.iloc[:,1:3] # 1t for rows and second for columns\n",
    "    print(x_class.head(5))\n",
    "    y_class = class_data.iloc[:,0]\n",
    "    print(y_class.head(5))\n",
    "    return x_class, y_class"
   ]
  },
  {
   "cell_type": "code",
   "execution_count": 5,
   "id": "d8fb6b18",
   "metadata": {},
   "outputs": [],
   "source": [
    "from sklearn.model_selection import train_test_split\n",
    "\n",
    "# Function for Train val test split\n",
    "def train_val_test_split(x_class, y_class):\n",
    "    X_train, X_test, y_train, y_test = train_test_split(x_class, y_class, \n",
    "                                                        test_size=0.2, shuffle = True, random_state = 8)\n",
    "    # Use the same function above for the validation set\n",
    "    X_train, X_val, y_train, y_val = train_test_split(X_train, y_train, \n",
    "                                                      test_size=0.25, random_state= 8) # 0.25 x 0.8 = 0.2\n",
    "    print(\"length of X training set\", len(X_train))\n",
    "    print(\"length of X validation set\", len(X_val))\n",
    "    print(\"length of X testing set\", len(X_test))\n",
    "    print(\"length of Y training set\", len(y_train))\n",
    "    print(\"length of Y validation set\", len(y_val))\n",
    "    print(\"length of Y testing set\", len(y_test))\n",
    "    \n",
    "    return X_train, y_train, X_val, y_val, X_test, y_test"
   ]
  },
  {
   "cell_type": "code",
   "execution_count": 6,
   "id": "169024b7",
   "metadata": {},
   "outputs": [
    {
     "name": "stdout",
     "output_type": "stream",
     "text": [
      "     y    x1    x2\n",
      "0  4.0  3.67  8.99\n",
      "1  3.0  2.18  3.06\n",
      "2  3.0  2.77  4.41\n",
      "3  2.0  9.81  7.19\n",
      "4  3.0  0.68  2.24\n",
      "     x1    x2\n",
      "0  3.67  8.99\n",
      "1  2.18  3.06\n",
      "2  2.77  4.41\n",
      "3  9.81  7.19\n",
      "4  0.68  2.24\n",
      "0    4.0\n",
      "1    3.0\n",
      "2    3.0\n",
      "3    2.0\n",
      "4    3.0\n",
      "Name: y, dtype: float64\n",
      "length of X training set 120\n",
      "length of X validation set 40\n",
      "length of X testing set 40\n",
      "length of Y training set 120\n",
      "length of Y validation set 40\n",
      "length of Y testing set 40\n",
      "\n",
      "Cluster for each data point can predicted is:\n",
      " [2 0 0 0 1 0 2 0 1 2 2 2 1 1 1 0 2 1 1 2 2 0 2 2 2 2 0 2 1 1 0 0 1 1 1 0 2\n",
      " 0 0 2]\n"
     ]
    },
    {
     "name": "stderr",
     "output_type": "stream",
     "text": [
      "D:\\Program Files\\Anaconda\\lib\\site-packages\\sklearn\\cluster\\_kmeans.py:881: UserWarning: KMeans is known to have a memory leak on Windows with MKL, when there are less chunks than available threads. You can avoid it by setting the environment variable OMP_NUM_THREADS=1.\n",
      "  warnings.warn(\n"
     ]
    },
    {
     "data": {
      "text/plain": [
       "Text(0, 0.5, 'WCSS')"
      ]
     },
     "execution_count": 6,
     "metadata": {},
     "output_type": "execute_result"
    },
    {
     "data": {
      "image/png": "[encoded data removed]",
      "text/plain": [
       "<Figure size 432x288 with 1 Axes>"
      ]
     },
     "metadata": {},
     "output_type": "display_data"
    }
   ],
   "source": [
    "#In the below code first the classification is done for a random value that is 3, then comparison of wcss value of multiple cluster values upto 15 is done to find optimal number of clusters which comes out to be 4\n",
    "\n",
    "class_data = pd.read_csv(class_file_name)\n",
    "print(class_data.head(5))\n",
    "\n",
    "# X & Y split of dataset\n",
    "x_class, y_class = X_Y_split(class_data)\n",
    "\n",
    "X_train, y_train, X_val, y_val, X_test, y_test = train_val_test_split(x_class, y_class)\n",
    "\n",
    "# Calling classification function\n",
    "label = knn_classify(X_train, X_val, 3)\n",
    "print('\\nCluster for each data point can predicted is:\\n', label)\n",
    "\n",
    "wcss=[]\n",
    "cluster_count = 15\n",
    "for i in range(1,cluster_count):\n",
    "    kmeans = KMeans(i)\n",
    "    kmeans.fit(X_train)\n",
    "    wcss_iter = kmeans.inertia_\n",
    "    wcss.append(wcss_iter)\n",
    "\n",
    "number_clusters = range(1,cluster_count)\n",
    "plt.plot(number_clusters,wcss)\n",
    "plt.title('The Elbow title')\n",
    "plt.xlabel('Number of clusters')\n",
    "plt.ylabel('WCSS')"
   ]
  },
  {
   "cell_type": "code",
   "execution_count": 7,
   "id": "c74793b7",
   "metadata": {},
   "outputs": [
    {
     "name": "stdout",
     "output_type": "stream",
     "text": [
      "\n",
      "Updated cluster for each validation data point can predicted is:\n",
      " [3 0 3 0 2 3 1 3 2 1 1 1 3 2 2 3 3 2 2 1 1 3 1 1 1 1 0 1 2 2 0 3 2 2 2 3 1\n",
      " 0 0 1]\n"
     ]
    }
   ],
   "source": [
    "#Optimal Cluster count = 4 for the dataset validation set\n",
    "label = knn_classify(X_train, X_val, 4)\n",
    "print('\\nUpdated cluster for each validation data point can predicted is:\\n', label)"
   ]
  },
  {
   "cell_type": "code",
   "execution_count": 8,
   "id": "768fd37a",
   "metadata": {},
   "outputs": [
    {
     "name": "stdout",
     "output_type": "stream",
     "text": [
      "\n",
      "Cluster for each test data point can predicted is:\n",
      " [2 2 0 1 1 1 1 1 3 0 0 1 1 0 1 2 2 3 0 2 3 1 0 2 1 2 2 2 0 0 2 3 3 2 1 2 3\n",
      " 3 1 2]\n"
     ]
    }
   ],
   "source": [
    "#Optimal Cluster count = 4 for the dataset validation set\n",
    "label = knn_classify(X_train, X_test, 4)\n",
    "print('\\nCluster for each test data point can predicted is:\\n', label)"
   ]
  },
  {
   "cell_type": "markdown",
   "id": "f4da0f57",
   "metadata": {},
   "source": [
    "# Part 2- KNN and Linear regression"
   ]
  },
  {
   "cell_type": "markdown",
   "id": "4b4d10f7",
   "metadata": {},
   "source": [
    "### KNN Regression"
   ]
  },
  {
   "cell_type": "code",
   "execution_count": 9,
   "id": "b3d07b3d",
   "metadata": {},
   "outputs": [],
   "source": [
    "# defining function for X & Y for dataframe splitting and for KNN regression\n",
    "from sklearn.metrics import mean_squared_error \n",
    "from math import sqrt\n",
    "from sklearn.neighbors import KNeighborsRegressor\n",
    "knn_model = KNeighborsRegressor(n_neighbors=3)\n",
    "\n",
    "def datasplit(train, test):\n",
    "    col = len(train.columns) \n",
    "    train_X = train.iloc[:,1:col]\n",
    "    train_y= train.iloc[:,0]\n",
    "    test_X = test.iloc[:,1:col]\n",
    "    test_y = test.iloc[:,0]\n",
    "    return train_X, train_y, test_X, test_y\n",
    "\n",
    "def error(actual, predicted):\n",
    "    MSE = np.square(np.subtract(actual,predicted)).mean()\n",
    "    RMSE = sqrt(MSE)\n",
    "    return RMSE\n",
    "\n",
    "def knn_regression(train, test, k):\n",
    "    train_X, train_y, test_X, test_y = datasplit(train, test)\n",
    "    knn_model.fit(train_X, train_y)\n",
    "    test_preds = knn_model.predict(test_X)\n",
    "    mse = mean_squared_error(test_y, test_preds)\n",
    "    rmse = sqrt(mse)\n",
    "    return test_preds, rmse"
   ]
  },
  {
   "cell_type": "code",
   "execution_count": 10,
   "id": "83f22688",
   "metadata": {},
   "outputs": [],
   "source": [
    "# redaing file as array\n",
    "data = pd.read_csv(class_file_name).to_numpy()"
   ]
  },
  {
   "cell_type": "code",
   "execution_count": 11,
   "id": "e0fc6e0b",
   "metadata": {},
   "outputs": [
    {
     "name": "stdout",
     "output_type": "stream",
     "text": [
      "[6.30333333 4.42333333 5.39666667 1.15666667 4.92666667 3.65\n",
      " 2.23       4.29333333 9.21       3.65       6.31333333 4.63666667\n",
      " 7.77666667 4.36       5.04333333 5.05666667 5.59666667 4.36\n",
      " 3.65333333 6.31333333 6.27333333 5.59666667 6.97       5.59666667\n",
      " 6.19333333 5.77       7.21       1.15666667 5.84333333 4.96666667\n",
      " 5.77       5.62666667 4.49666667 4.49666667 3.90333333 2.88666667\n",
      " 7.21       4.63666667 5.84       3.19333333]\n",
      "3.539192272884372\n"
     ]
    }
   ],
   "source": [
    "# validation value prediction and RMSE\n",
    "valpred, val_rsme = knn_regression(X_train, X_val, 4)\n",
    "print(valpred)\n",
    "print(val_rsme)"
   ]
  },
  {
   "cell_type": "code",
   "execution_count": 12,
   "id": "3bee1eaa",
   "metadata": {},
   "outputs": [
    {
     "name": "stdout",
     "output_type": "stream",
     "text": [
      "Predicted values of the given test data using KNN regression: [3.73666667 4.33       3.62       4.03       5.15666667 5.77\n",
      " 6.42       5.4        6.42666667 6.29333333 6.38666667 5.15666667\n",
      " 4.03       4.96666667 3.05333333 4.03       5.58333333 4.79666667\n",
      " 3.42333333 2.88666667 7.88666667 5.26333333 4.48333333 5.59666667\n",
      " 6.91333333 4.03       5.15666667 3.73666667 6.08       6.02666667\n",
      " 4.29333333 6.86666667 2.78666667 6.97       5.71666667 4.61\n",
      " 4.73       4.36       5.05666667 4.63666667]\n",
      "Root mean sq value for the given test data using KNN regression: 3.240237088376233\n"
     ]
    }
   ],
   "source": [
    "# Test value prediction and RMSE\n",
    "testpred_knn, test_rsme_knn = knn_regression(X_train, X_test, 4)\n",
    "print('Predicted values of the given test data using KNN regression:', testpred_knn)\n",
    "print('Root mean sq value for the given test data using KNN regression:', test_rsme_knn)"
   ]
  },
  {
   "cell_type": "markdown",
   "id": "b0f424f6",
   "metadata": {},
   "source": [
    "### Linear Regression"
   ]
  },
  {
   "cell_type": "code",
   "execution_count": 13,
   "id": "0c94f6ee",
   "metadata": {},
   "outputs": [],
   "source": [
    "# defining function for X & Y for array splitting and for linear regression analysis\n",
    "\n",
    "def arrsplit(train, test): #X & Y array splitting\n",
    "    train_X = train[:, [1,2]]\n",
    "    train_y = train[:, [0]]\n",
    "    test_X = test[:, [1,2]]\n",
    "    test_y = test[:,[0]]\n",
    "    return train_X, train_y, test_X, test_y\n",
    "\n",
    "def normal_equation(X, Y): #Linear regression analysis\n",
    "    X_train, y_train, X_val, y_val, X_test, y_test = train_val_test_split(X, Y)\n",
    "    a = np.linalg.inv(np.dot(X_train.T,X_train))\n",
    "    b = np.dot(X_train.T,y_train)\n",
    "    beta = np.dot(a,b)\n",
    "    return beta\n",
    "\n",
    "def predict(test,beta): #value prediction function\n",
    "    return np.dot(test,beta)\n",
    "\n",
    "def rmse_val(actual_test, predicted_test): #Root mean square value function\n",
    "    rmse = error(actual_test, predicted_test)\n",
    "    return rmse"
   ]
  },
  {
   "cell_type": "code",
   "execution_count": 14,
   "id": "6869082a",
   "metadata": {},
   "outputs": [
    {
     "name": "stdout",
     "output_type": "stream",
     "text": [
      "     x1    x2\n",
      "0  3.67  8.99\n",
      "1  2.18  3.06\n",
      "2  2.77  4.41\n",
      "3  9.81  7.19\n",
      "4  0.68  2.24\n",
      "0    4.0\n",
      "1    3.0\n",
      "2    3.0\n",
      "3    2.0\n",
      "4    3.0\n",
      "Name: y, dtype: float64\n",
      "length of X training set 120\n",
      "length of X validation set 40\n",
      "length of X testing set 40\n",
      "length of Y training set 120\n",
      "length of Y validation set 40\n",
      "length of Y testing set 40\n",
      "Array of resultant output for validation data:\n",
      " [2.08573    0.15041177 3.0122209  1.62364889 1.97032903 1.32326508\n",
      " 2.91305654 2.59348682 3.38593521 3.17648203 3.25838691 1.86146834\n",
      " 1.66644637 4.05482943 1.4663385  1.53482772 2.2250423  3.80165928\n",
      " 4.44947131 1.03007662 4.77440687 2.0053859  3.66760428 2.16853027\n",
      " 0.93057375 1.5711874  1.86972403 2.13901581 3.84518503 3.12514676\n",
      " 2.18832214 3.46908648 4.55652874 0.87445148 2.08432685 1.2051646\n",
      " 3.70870187 4.91769865 2.59422026 0.673956  ]\n"
     ]
    },
    {
     "ename": "NameError",
     "evalue": "name 'rmse' is not defined",
     "output_type": "error",
     "traceback": [
      "\u001b[1;31m---------------------------------------------------------------------------\u001b[0m",
      "\u001b[1;31mNameError\u001b[0m                                 Traceback (most recent call last)",
      "\u001b[1;32mC:\\Users\\ABEERP~1\\AppData\\Local\\Temp/ipykernel_9572/340584230.py\u001b[0m in \u001b[0;36m<module>\u001b[1;34m\u001b[0m\n\u001b[0;32m      6\u001b[0m \u001b[0mrmse_lin\u001b[0m \u001b[1;33m=\u001b[0m \u001b[0mrmse_val\u001b[0m\u001b[1;33m(\u001b[0m\u001b[0my_test\u001b[0m\u001b[1;33m,\u001b[0m \u001b[0mtest_op\u001b[0m\u001b[1;33m)\u001b[0m\u001b[1;33m\u001b[0m\u001b[1;33m\u001b[0m\u001b[0m\n\u001b[0;32m      7\u001b[0m \u001b[0mprint\u001b[0m\u001b[1;33m(\u001b[0m\u001b[1;34m\"Array of resultant output for validation data:\\n\"\u001b[0m\u001b[1;33m,\u001b[0m\u001b[0mtest_op\u001b[0m\u001b[1;33m)\u001b[0m\u001b[1;33m\u001b[0m\u001b[1;33m\u001b[0m\u001b[0m\n\u001b[1;32m----> 8\u001b[1;33m \u001b[0mprint\u001b[0m\u001b[1;33m(\u001b[0m\u001b[1;34m\"Root mean Squared error for the linear regression model is:\"\u001b[0m\u001b[1;33m,\u001b[0m \u001b[0mrmse\u001b[0m\u001b[1;33m)\u001b[0m\u001b[1;33m\u001b[0m\u001b[1;33m\u001b[0m\u001b[0m\n\u001b[0m",
      "\u001b[1;31mNameError\u001b[0m: name 'rmse' is not defined"
     ]
    }
   ],
   "source": [
    "# reading the dataset, splitting the data into X & Y and then applying various functions to calculate the RMSE value for the predcited and actual outputs\n",
    "x_class, y_class = X_Y_split(data)\n",
    "\n",
    "beta = normal_equation(x_class, y_class)\n",
    "test_op  = predict(X_test, beta)\n",
    "rmse_lin = rmse_val(y_test, test_op)\n",
    "print(\"Array of resultant output for validation data:\\n\",test_op)\n",
    "print(\"Root mean Squared error for the linear regression model is:\", rmse)"
   ]
  },
  {
   "cell_type": "markdown",
   "id": "09f5032c",
   "metadata": {},
   "source": [
    "# Analysing the results for Linear and KNN regression"
   ]
  },
  {
   "cell_type": "code",
   "execution_count": null,
   "id": "781b655c",
   "metadata": {},
   "outputs": [],
   "source": [
    "print('Knn regression error value is:',test_rsme_knn)\n",
    "print('linear regression error value is:',rmse_lin)"
   ]
  },
  {
   "cell_type": "markdown",
   "id": "7a561835",
   "metadata": {},
   "source": [
    "As we can compare the two regression methodologies, the linear regression have a lower residual sum of squares, so Linear rregression is better"
   ]
  },
  {
   "cell_type": "code",
   "execution_count": null,
   "id": "28c84aca",
   "metadata": {},
   "outputs": [],
   "source": []
  }
 ],
 "metadata": {
  "kernelspec": {
   "display_name": "Python 3 (ipykernel)",
   "language": "python",
   "name": "python3"
  },
  "language_info": {
   "codemirror_mode": {
    "name": "ipython",
    "version": 3
   },
   "file_extension": ".py",
   "mimetype": "text/x-python",
   "name": "python",
   "nbconvert_exporter": "python",
   "pygments_lexer": "ipython3",
   "version": "3.9.7"
  }
 },
 "nbformat": 4,
 "nbformat_minor": 5
}
